{
  "nbformat": 4,
  "nbformat_minor": 0,
  "metadata": {
    "colab": {
      "name": "module 1 assignment ",
      "provenance": [],
      "authorship_tag": "ABX9TyOZ4MU9knXdXxvwvvhu15Ex",
      "include_colab_link": true
    },
    "kernelspec": {
      "name": "python3",
      "display_name": "Python 3"
    },
    "language_info": {
      "name": "python"
    }
  },
  "cells": [
    {
      "cell_type": "markdown",
      "metadata": {
        "id": "view-in-github",
        "colab_type": "text"
      },
      "source": [
        "<a href=\"https://colab.research.google.com/github/MEGHANA192/PYTHON_NEW/blob/MODULE_1/module_1_assignment.ipynb\" target=\"_parent\"><img src=\"https://colab.research.google.com/assets/colab-badge.svg\" alt=\"Open In Colab\"/></a>"
      ]
    },
    {
      "cell_type": "code",
      "execution_count": 1,
      "metadata": {
        "colab": {
          "base_uri": "https://localhost:8080/"
        },
        "id": "ZyukCMKq31q9",
        "outputId": "fd8307c8-29ae-493f-e97f-b5463a339553"
      },
      "outputs": [
        {
          "output_type": "stream",
          "name": "stdout",
          "text": [
            "enter a value1\n",
            "1\n"
          ]
        }
      ],
      "source": [
        "#Accept input from user and store it in variable and print the value.\n",
        "a = int(input(\"enter a value\"))\n",
        "print(a)\n",
        "\n"
      ]
    },
    {
      "cell_type": "code",
      "source": [
        "#Use of print statements and use of (.format )for printing different data types.\n",
        "meghana = \"My name is {0} and I'm {1}\"\n",
        "print(meghana.format(\"meghana\",18))\n"
      ],
      "metadata": {
        "colab": {
          "base_uri": "https://localhost:8080/"
        },
        "id": "XfumJALN4cbQ",
        "outputId": "a6fd448a-2b93-4325-c19e-93f7bbef462c"
      },
      "execution_count": 2,
      "outputs": [
        {
          "output_type": "stream",
          "name": "stdout",
          "text": [
            "My name is meghana and I'm 18\n"
          ]
        }
      ]
    },
    {
      "cell_type": "code",
      "source": [
        "##Conversion of one unit to another\n",
        "hours = int(input(\"Please enter hours:\"))\n",
        "minutes = hours * 60\n",
        "print (minutes, \" Minutes\")\n",
        "KM = int(input(\"Enter the dist in KM\"))\n",
        "meter = KM * 1000\n",
        "print (meter, \"Meters\")\n"
      ],
      "metadata": {
        "colab": {
          "base_uri": "https://localhost:8080/"
        },
        "id": "POjBidFR4miG",
        "outputId": "a9b65834-ecb8-497d-a8d3-f863e5497544"
      },
      "execution_count": 3,
      "outputs": [
        {
          "output_type": "stream",
          "name": "stdout",
          "text": [
            "Please enter hours:50\n",
            "3000  Minutes\n",
            "Enter the dist in KM40\n",
            "40000 Meters\n"
          ]
        }
      ]
    },
    {
      "cell_type": "code",
      "source": [
        "##Take 2 numbers as user input and add, multiply, divide, subtract, remainder and print the output\n",
        "a = 30\n",
        "b = 50\n",
        "add = a+b\n",
        "sub = a-b\n",
        "mul = a*b\n",
        "div = a/b\n",
        "rem = a%b\n",
        "print(add,\"is the addition of the two\")\n",
        "print(sub,\"id the substraction of the two\")\n",
        "print(mul,\"is the multiplication of the two\")\n",
        "print(div,\"is the division of the two\")\n",
        "print(rem,\"is the remainder of the two\")\n"
      ],
      "metadata": {
        "colab": {
          "base_uri": "https://localhost:8080/"
        },
        "id": "bxJhprk74rzk",
        "outputId": "406e83ef-db86-41b3-e0f9-d7d3638669a4"
      },
      "execution_count": 4,
      "outputs": [
        {
          "output_type": "stream",
          "name": "stdout",
          "text": [
            "80 is the addition of the two\n",
            "-20 id the substraction of the two\n",
            "1500 is the multiplication of the two\n",
            "0.6 is the division of the two\n",
            "30 is the remainder of the two\n"
          ]
        }
      ]
    },
    {
      "cell_type": "code",
      "source": [
        "##Accepting 5 different subject marks from user and displaying the grade of the student\n",
        "math=int(input(\"Enter marks of the math subject: \"))\n",
        "phy=int(input(\"Enter marks of the phy subject: \"))\n",
        "chem=int(input(\"Enter marks of the chem subject: \"))\n",
        "beee=int(input(\"Enter marks of the beee subject: \"))\n",
        "evpr=int(input(\"Enter marks of the evpr subject: \"))\n",
        "per=((math+phy+chem+beee+evpr)/500)*100\n",
        "if(per>=90):\n",
        " print(\"Grade: A\")\n",
        "elif(per>=80 and per<90):\n",
        " print(\"Grade: B\")\n",
        "elif(per>=70 and per<80):\n",
        " print(\"Grade: C\")\n",
        "elif(per>=60 and per<70):\n",
        " print(\"Grade: D\")\n",
        "else:\n",
        " print(\"Grade: F\")\n"
      ],
      "metadata": {
        "colab": {
          "base_uri": "https://localhost:8080/"
        },
        "id": "visLgc64433y",
        "outputId": "a788cf85-8a6d-4c74-a075-e59bb7ccab27"
      },
      "execution_count": 5,
      "outputs": [
        {
          "output_type": "stream",
          "name": "stdout",
          "text": [
            "Enter marks of the math subject: 50\n",
            "Enter marks of the phy subject: 0\n",
            "Enter marks of the chem subject: 30\n",
            "Enter marks of the beee subject: 50\n",
            "Enter marks of the evpr subject: 60\n",
            "Grade: F\n"
          ]
        }
      ]
    },
    {
      "cell_type": "code",
      "source": [
        "##Calculator\n",
        "def add(x, y):\n",
        " return x + y\n",
        "def subtract(x, y):\n",
        " return x - y\n",
        "def multiply(x, y):\n",
        " return x * y\n",
        "def divide(x, y):\n",
        " return x / y\n",
        "print(\"Select operation.\")\n",
        "print(\"1.Add\")\n",
        "print(\"2.Subtract\")\n",
        "print(\"3.Multiply\")\n",
        "print(\"4.Divide\")\n",
        "while True:\n",
        " choice = input(\"Enter choice(1/2/3/4): \")\n",
        " if choice in ('1', '2', '3', '4'):\n",
        "   num1 = float(input(\"Enter first number: \"))\n",
        "   num2 = float(input(\"Enter second number: \"))\n",
        "   if choice == '1':\n",
        "     print(num1, \"+\", num2, \"=\", add(num1, num2))\n",
        "   elif choice == '2':\n",
        "       print(num1, \"-\", num2, \"=\", subtract(num1, num2))\n",
        "   elif choice == '3':\n",
        "     print(num1, \"*\", num2, \"=\", multiply(num1, num2))\n",
        "   elif choice == '4':\n",
        "     print(num1, \"/\", num2, \"=\", divide(num1, num2))\n",
        "   next_calculation = input(\"Let's do next calculation? (y/n): \")\n",
        "   if next_calculation == \"n\":\n",
        "     break\n",
        " else:\n",
        "   print(\"Invalid Input\")\n"
      ],
      "metadata": {
        "colab": {
          "base_uri": "https://localhost:8080/"
        },
        "id": "gDlkSX0g5A9o",
        "outputId": "b321f9f4-5eae-470b-f3b8-b5dd0187d725"
      },
      "execution_count": 6,
      "outputs": [
        {
          "name": "stdout",
          "output_type": "stream",
          "text": [
            "Select operation.\n",
            "1.Add\n",
            "2.Subtract\n",
            "3.Multiply\n",
            "4.Divide\n",
            "Enter choice(1/2/3/4): 1\n",
            "Enter first number: 2\n",
            "Enter second number: 3\n",
            "2.0 + 3.0 = 5.0\n",
            "Let's do next calculation? (y/n): n\n"
          ]
        }
      ]
    },
    {
      "cell_type": "code",
      "source": [
        "##Printing all even numbers, odd numbers, count of even numbers, count of odd numbers within a \n",
        "##given range\n",
        "even_count, odd_count = 0, 0\n",
        "even_list = []\n",
        "odd_list = []\n",
        "n = int(input(\"Enter the starting num of range: \"))\n",
        "m = int(input(\"Enter the ending num of range: \"))\n",
        "# Using for loop\n",
        "for i in range(n,m+1):\n",
        " if i % 2 == 0:\n",
        "   even_count += 1\n",
        "   even_list.append(i)\n",
        " else:\n",
        "   odd_count += 1\n",
        "   odd_list.append(i)\n",
        "print(\"Total even nums in the range {0} to {1} is {2}\".format(n, \n",
        "m,even_count), \"and nums are\", even_list)\n",
        "print(\"Total odd nums in the range {0} to {1} is {2}\".format(n,m,odd_count), \"and nums are\", odd_list)\n"
      ],
      "metadata": {
        "colab": {
          "base_uri": "https://localhost:8080/"
        },
        "id": "8K8eB7Do6LKN",
        "outputId": "21ab3963-2e15-4a50-c981-9f7c5995537d"
      },
      "execution_count": 7,
      "outputs": [
        {
          "output_type": "stream",
          "name": "stdout",
          "text": [
            "Enter the starting num of range: 10\n",
            "Enter the ending num of range: 20\n",
            "Total even nums in the range 10 to 20 is 6 and nums are [10, 12, 14, 16, 18, 20]\n",
            "Total odd nums in the range 10 to 20 is 5 and nums are [11, 13, 15, 17, 19]\n"
          ]
        }
      ]
    },
    {
      "cell_type": "code",
      "source": [
        "##Check whether the number is palindrome or not\n",
        "x=int(input(\"enter x value: \"))\n",
        "rev=0\n",
        "temp=x\n",
        "while temp>0:\n",
        " rem=temp%10\n",
        " rev=(rev*10)+rem\n",
        " temp=temp//10\n",
        "if x==rev:\n",
        " print(\"palindrome\")\n",
        "else:\n",
        " print(\"not a plaindrome\")\n"
      ],
      "metadata": {
        "colab": {
          "base_uri": "https://localhost:8080/"
        },
        "id": "ER05KgbE6q59",
        "outputId": "a6f0f3e9-f3d0-43ac-9e3e-ad0ec5d5819b"
      },
      "execution_count": 8,
      "outputs": [
        {
          "output_type": "stream",
          "name": "stdout",
          "text": [
            "enter x value: 10\n",
            "not a plaindrome\n"
          ]
        }
      ]
    },
    {
      "cell_type": "code",
      "source": [
        "##Usage of mathematical functions in python like math.ceil, floor, fabs, fmod, trunc, pow, sqrt etc\n",
        "import math\n",
        "num = 68.69\n",
        "print(math.ceil(num))\n",
        "print(math.floor(num))\n",
        "print(math.fabs(num))\n",
        "print(math.fmod(num,1))\n",
        "print(math.trunc(num))\n",
        "print(math.pow(num,2))\n",
        "#print(math.sqrt(num))\n"
      ],
      "metadata": {
        "colab": {
          "base_uri": "https://localhost:8080/"
        },
        "id": "7aY-PdKJ7Jfq",
        "outputId": "b0300601-bf8d-4e56-e56f-0c151689884e"
      },
      "execution_count": 9,
      "outputs": [
        {
          "output_type": "stream",
          "name": "stdout",
          "text": [
            "69\n",
            "68\n",
            "68.69\n",
            "0.6899999999999977\n",
            "68\n",
            "4718.3161\n"
          ]
        }
      ]
    },
    {
      "cell_type": "code",
      "source": [
        "##Finding simple and compound intrest\n",
        "import math\n",
        "p=int(input(\"enter the principal amount\"))\n",
        "r=int(input(\"enter the intrest amount\"))\n",
        "t=int(input(\"amount of years\"))\n",
        "for i in range(1,t+1):\n",
        " si=(p*i*r)/100\n",
        " ci=p*(math.pow(1+r/100,i))\n",
        "print(i,\"yr interst ci is \",ci)\n",
        "print(i,\"yr interst si is \",si)"
      ],
      "metadata": {
        "colab": {
          "base_uri": "https://localhost:8080/"
        },
        "id": "pUa8tGvb7QPT",
        "outputId": "3f35653e-f141-43dc-eef9-a97f5a30f64a"
      },
      "execution_count": 10,
      "outputs": [
        {
          "output_type": "stream",
          "name": "stdout",
          "text": [
            "enter the principal amount10000\n",
            "enter the intrest amount2\n",
            "amount of years2\n",
            "2 yr interst ci is  10404.0\n",
            "2 yr interst si is  400.0\n"
          ]
        }
      ]
    },
    {
      "cell_type": "code",
      "source": [
        "##Printing all even numbers, odd numbers\n",
        "x=int(input(\"enter the first number in the range: \"))\n",
        "y=int(input(\"enter the second number in the range: \"))\n",
        "for i in range(x,y):\n",
        " if i%2==0:\n",
        "   print(\"even numbers are\",i)\n",
        " else:\n",
        "   print(\"odd numbers are \",i)\n"
      ],
      "metadata": {
        "colab": {
          "base_uri": "https://localhost:8080/"
        },
        "id": "YxcbcDSu7X_g",
        "outputId": "824c94b6-5d65-4059-8e3e-352151dec8b4"
      },
      "execution_count": 11,
      "outputs": [
        {
          "output_type": "stream",
          "name": "stdout",
          "text": [
            "enter the first number in the range: 5\n",
            "enter the second number in the range: 6\n",
            "odd numbers are  5\n"
          ]
        }
      ]
    },
    {
      "cell_type": "code",
      "source": [
        "##Strong Number\n",
        "a = int(input(\" Enter the Number:\"))\n",
        "sum = 0\n",
        "temp = a\n",
        "while(temp > 0):\n",
        " factorial = 1\n",
        " rem = temp % 10\n",
        " for i in range(1, rem + 1):\n",
        "   factorial = factorial * i\n",
        " print(\"Factorial of %d = %d\" %(rem, factorial))\n",
        " sum = sum + factorial\n",
        " temp = temp // 10\n",
        "print(\"\\n Sum of Factorials of a Given Number %d = %d\" %(a, sum))\n",
        "if (sum == a):\n",
        " print(\" The given number is a Strong Number\")\n",
        "else:\n",
        " print(\" The given number is not a Strong Number\")\n"
      ],
      "metadata": {
        "colab": {
          "base_uri": "https://localhost:8080/"
        },
        "id": "ozP2NfBs7kj8",
        "outputId": "5e5c7f23-b5b4-49b6-fe2f-23e30dd75047"
      },
      "execution_count": 13,
      "outputs": [
        {
          "output_type": "stream",
          "name": "stdout",
          "text": [
            " Enter the Number:521\n",
            "Factorial of 1 = 1\n",
            "Factorial of 2 = 2\n",
            "Factorial of 5 = 120\n",
            "\n",
            " Sum of Factorials of a Given Number 521 = 123\n",
            " The given number is not a Strong Number\n"
          ]
        }
      ]
    },
    {
      "cell_type": "code",
      "source": [
        "##Perfect Number\n",
        "a = int(input(\"Enter the number: \"))\n",
        "sum = 0\n",
        "for i in range( 1 , a ):\n",
        " if (a % i == 0):\n",
        "   sum = sum + i\n",
        "if(sum == num):\n",
        " print(\"perfect number\")\n",
        "else:\n",
        " print(\"not a perfect number\")\n"
      ],
      "metadata": {
        "colab": {
          "base_uri": "https://localhost:8080/"
        },
        "id": "kqxMCk7O7_Z5",
        "outputId": "a600a462-e757-49cc-f80d-e5be88062b19"
      },
      "execution_count": 14,
      "outputs": [
        {
          "output_type": "stream",
          "name": "stdout",
          "text": [
            "Enter the number: 5\n",
            "not a perfect number\n"
          ]
        }
      ]
    },
    {
      "cell_type": "code",
      "source": [
        ""
      ],
      "metadata": {
        "id": "duiJMdpa8V1i"
      },
      "execution_count": null,
      "outputs": []
    }
  ]
}