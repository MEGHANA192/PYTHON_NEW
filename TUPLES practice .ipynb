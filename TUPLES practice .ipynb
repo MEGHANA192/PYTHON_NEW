{
  "nbformat": 4,
  "nbformat_minor": 0,
  "metadata": {
    "colab": {
      "name": "TUPLES",
      "provenance": [],
      "authorship_tag": "ABX9TyPHX25RAUxA+pihHRAJ4joh",
      "include_colab_link": true
    },
    "kernelspec": {
      "name": "python3",
      "display_name": "Python 3"
    },
    "language_info": {
      "name": "python"
    }
  },
  "cells": [
    {
      "cell_type": "markdown",
      "metadata": {
        "id": "view-in-github",
        "colab_type": "text"
      },
      "source": [
        "<a href=\"https://colab.research.google.com/github/MEGHANA192/PYTHON_NEW/blob/main/TUPLES%20practice%20.ipynb\" target=\"_parent\"><img src=\"https://colab.research.google.com/assets/colab-badge.svg\" alt=\"Open In Colab\"/></a>"
      ]
    },
    {
      "cell_type": "code",
      "execution_count": null,
      "metadata": {
        "colab": {
          "base_uri": "https://localhost:8080/"
        },
        "id": "Ba60fmNgaYFp",
        "outputId": "d8bd2cfd-a82e-4ed4-e4e5-1f6a00a33295"
      },
      "outputs": [
        {
          "output_type": "stream",
          "name": "stdout",
          "text": [
            "('banana', 'apple', 'papaya')\n"
          ]
        }
      ],
      "source": [
        "tuple=(\"banana\",\"apple\",\"papaya\")\n",
        "print(tuple)"
      ]
    },
    {
      "cell_type": "markdown",
      "source": [
        "#length of the tuple\n"
      ],
      "metadata": {
        "id": "sFWPkDzjxB_T"
      }
    },
    {
      "cell_type": "code",
      "source": [
        "tuple=(\"banana\",\"apple\",\"papaya\",\"kiwi\")\n",
        "print(len(tuple))"
      ],
      "metadata": {
        "id": "xXNqOv0gcRMl",
        "colab": {
          "base_uri": "https://localhost:8080/"
        },
        "outputId": "fa3dc841-9a22-441c-816c-0b502527dd82"
      },
      "execution_count": null,
      "outputs": [
        {
          "output_type": "stream",
          "name": "stdout",
          "text": [
            "4\n"
          ]
        }
      ]
    },
    {
      "cell_type": "markdown",
      "source": [
        ""
      ],
      "metadata": {
        "id": "njmtB7nfxN8B"
      }
    },
    {
      "cell_type": "code",
      "source": [
        "tuple=(\"banana\",\"apple\",\"papaya\")\n",
        "print(type(tuple))"
      ],
      "metadata": {
        "colab": {
          "base_uri": "https://localhost:8080/"
        },
        "id": "9qUpJOBYxNIp",
        "outputId": "32e19d26-20e8-4119-f0a8-346fb16d812e"
      },
      "execution_count": null,
      "outputs": [
        {
          "output_type": "stream",
          "name": "stdout",
          "text": [
            "<class 'tuple'>\n"
          ]
        }
      ]
    },
    {
      "cell_type": "code",
      "source": [
        ""
      ],
      "metadata": {
        "id": "tyJbgRruxxpB"
      },
      "execution_count": null,
      "outputs": []
    }
  ]
}