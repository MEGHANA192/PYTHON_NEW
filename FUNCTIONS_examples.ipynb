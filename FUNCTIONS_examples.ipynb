{
  "nbformat": 4,
  "nbformat_minor": 0,
  "metadata": {
    "colab": {
      "name": "FUNCTIONS",
      "provenance": [],
      "include_colab_link": true
    },
    "kernelspec": {
      "name": "python3",
      "display_name": "Python 3"
    },
    "language_info": {
      "name": "python"
    }
  },
  "cells": [
    {
      "cell_type": "markdown",
      "metadata": {
        "id": "view-in-github",
        "colab_type": "text"
      },
      "source": [
        "<a href=\"https://colab.research.google.com/github/MEGHANA192/PYTHON_NEW/blob/MODULE_2/FUNCTIONS_examples.ipynb\" target=\"_parent\"><img src=\"https://colab.research.google.com/assets/colab-badge.svg\" alt=\"Open In Colab\"/></a>"
      ]
    },
    {
      "cell_type": "markdown",
      "source": [
        "declaring a function(CALLING A FUNCTION)\n"
      ],
      "metadata": {
        "id": "wBz9wQQQVM0h"
      }
    },
    {
      "cell_type": "code",
      "execution_count": 1,
      "metadata": {
        "colab": {
          "base_uri": "https://localhost:8080/"
        },
        "id": "eLILZUaoOVMu",
        "outputId": "12ce6205-fa05-4001-af2f-e1963f3d6320"
      },
      "outputs": [
        {
          "output_type": "stream",
          "name": "stdout",
          "text": [
            "my name is vyshu\n"
          ]
        }
      ],
      "source": [
        "def dhoni():\n",
        "  print(\"my name is vyshu\")\n",
        "dhoni()"
      ]
    },
    {
      "cell_type": "markdown",
      "source": [
        "ARGUMENTS\n"
      ],
      "metadata": {
        "id": "1iYc7VSqWsQf"
      }
    },
    {
      "cell_type": "code",
      "source": [
        "def virat(best):\n",
        "  print(best + \"CAPTAIN COOL\")\n",
        "\n",
        "virat(\"DHONI \")\n",
        "virat(\"MAHI \")\n",
        "virat(\"THALA \")"
      ],
      "metadata": {
        "colab": {
          "base_uri": "https://localhost:8080/"
        },
        "id": "FCsNfQtqVX8v",
        "outputId": "b003cf3c-3d84-4932-a19f-371d82f80b9c"
      },
      "execution_count": null,
      "outputs": [
        {
          "output_type": "stream",
          "name": "stdout",
          "text": [
            "DHONI CAPTAIN COOL\n",
            "MAHI CAPTAIN COOL\n",
            "THALA CAPTAIN COOL\n"
          ]
        }
      ]
    },
    {
      "cell_type": "markdown",
      "source": [
        "Parameters or Arguments?\n",
        "\n",
        "\n",
        "The terms parameter and argument can be used for the same thing: information that are passed into a function."
      ],
      "metadata": {
        "id": "A7mdyhlHYczA"
      }
    },
    {
      "cell_type": "code",
      "source": [
        "def dhoni(best,wk):\n",
        "  print(best +\"  \"+ wk)\n",
        "\n",
        "dhoni(\"DHONI: \",\"captain cool\")\n",
        "\n"
      ],
      "metadata": {
        "colab": {
          "base_uri": "https://localhost:8080/"
        },
        "id": "xDTXR9nlX0Tv",
        "outputId": "7db305b3-5dac-44b6-a342-823988afd493"
      },
      "execution_count": null,
      "outputs": [
        {
          "output_type": "stream",
          "name": "stdout",
          "text": [
            "DHONI:   captain cool\n"
          ]
        }
      ]
    },
    {
      "cell_type": "markdown",
      "source": [
        "Arbitrary Arguments, *args"
      ],
      "metadata": {
        "id": "YA5R9kArbBfN"
      }
    },
    {
      "cell_type": "code",
      "source": [
        "def dhoni(*best):\n",
        "  print(\"who is the best cricketer:  \"+ best[0])\n",
        "\n",
        "dhoni(\"DHONI \",\"captain cool\",\"thala\")\n"
      ],
      "metadata": {
        "colab": {
          "base_uri": "https://localhost:8080/"
        },
        "id": "iIatbg1tbWF-",
        "outputId": "22cd555d-d0b9-4f98-8633-318ef79a15b1"
      },
      "execution_count": null,
      "outputs": [
        {
          "output_type": "stream",
          "name": "stdout",
          "text": [
            "who is the best cricketer:  DHONI \n"
          ]
        }
      ]
    },
    {
      "cell_type": "markdown",
      "source": [
        "Keyword Arguments"
      ],
      "metadata": {
        "id": "L08yOhcxcLaW"
      }
    },
    {
      "cell_type": "code",
      "source": [
        "def dhoni(best,good,better):\n",
        "  print(\"who is the best cricketer:  \"+ best)\n",
        "\n",
        "dhoni(best=\"DHONI \",good=\"captain cool\",better=\"thala\")\n"
      ],
      "metadata": {
        "colab": {
          "base_uri": "https://localhost:8080/"
        },
        "id": "5SHtIXSCbxrM",
        "outputId": "b12b1fab-a13b-466e-e9d9-aa8f4cb29f64"
      },
      "execution_count": null,
      "outputs": [
        {
          "output_type": "stream",
          "name": "stdout",
          "text": [
            "who is the best cricketer:  DHONI \n"
          ]
        }
      ]
    },
    {
      "cell_type": "markdown",
      "source": [
        "to tell wether the person is eligible to vote or not\n"
      ],
      "metadata": {
        "id": "_hllo_G5dSPd"
      }
    },
    {
      "cell_type": "code",
      "source": [
        ""
      ],
      "metadata": {
        "id": "4u69bRFldXwa"
      },
      "execution_count": null,
      "outputs": []
    },
    {
      "cell_type": "code",
      "source": [
        "def nCr(n,r):\n",
        "  return(fact(n)/(fact(r)*fact(n-r)))\n",
        "n=int(input(\"enter n\"))\n",
        "r=int(input(\"enter r\"))\n",
        "def fact(n):\n",
        "  res=1\n",
        "  for i in range(2,n+1):\n",
        "    res=res*i\n",
        "  return res\n",
        "print(int(nCr(n,r)))\n",
        "\n",
        "\n"
      ],
      "metadata": {
        "colab": {
          "base_uri": "https://localhost:8080/"
        },
        "id": "ItnCV_sboqfi",
        "outputId": "460409db-cd03-4cce-ded7-5284491a981c"
      },
      "execution_count": null,
      "outputs": [
        {
          "output_type": "stream",
          "name": "stdout",
          "text": [
            "enter n5\n",
            "enter r2\n",
            "10\n"
          ]
        }
      ]
    },
    {
      "cell_type": "code",
      "source": [
        "def abhinav():\n",
        "  a=[\"p\",\"q\",\"r\"]\n",
        "  a.remove(\"p\")\n",
        "  print(a)\n",
        "abhinav()"
      ],
      "metadata": {
        "id": "7pDe--aGx7iA",
        "colab": {
          "base_uri": "https://localhost:8080/"
        },
        "outputId": "b27c31c9-5fff-4f7f-dffb-b6007786c909"
      },
      "execution_count": null,
      "outputs": [
        {
          "output_type": "stream",
          "name": "stdout",
          "text": [
            "['q', 'r']\n"
          ]
        }
      ]
    },
    {
      "cell_type": "code",
      "source": [
        "def abhinav():\n",
        "  a=[\"p\",\"q\",\"r\"]\n",
        "  b=[\"a\",\"p\",\"q\"]\n",
        "  c=\n"
      ],
      "metadata": {
        "id": "3tVObCQ2Bi6c"
      },
      "execution_count": null,
      "outputs": []
    }
  ]
}