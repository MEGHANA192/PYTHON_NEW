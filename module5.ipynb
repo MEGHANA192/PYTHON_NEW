{
  "cells": [
    {
      "cell_type": "markdown",
      "metadata": {
        "id": "view-in-github",
        "colab_type": "text"
      },
      "source": [
        "<a href=\"https://colab.research.google.com/github/MEGHANA192/PYTHON_NEW/blob/MODULE_5/module5.ipynb\" target=\"_parent\"><img src=\"https://colab.research.google.com/assets/colab-badge.svg\" alt=\"Open In Colab\"/></a>"
      ]
    },
    {
      "cell_type": "code",
      "execution_count": null,
      "metadata": {
        "id": "ZgNPS1yBKfn2",
        "outputId": "ffc359dd-31d9-4c19-86a2-bf2633aa5673"
      },
      "outputs": [
        {
          "name": "stdout",
          "output_type": "stream",
          "text": [
            "hi\n",
            "Incorrect\n"
          ]
        }
      ],
      "source": [
        "import re\n",
        "s=input()\n",
        "print(s)\n",
        "p=re.findall(\"[a-z][A-Z]\",s)\n",
        "q=re.findall(\"[0-9]\",s)\n",
        "if p or q:\n",
        "  print(\"yes it is correct\")\n",
        "else:\n",
        "  print(\"it is Incorrect\")"
      ]
    },
    {
      "cell_type": "code",
      "execution_count": null,
      "metadata": {
        "id": "voLYLRt8Kfn6",
        "outputId": "60accda4-19e3-4c5f-a2fb-34dfe06f3a47"
      },
      "outputs": [
        {
          "name": "stdout",
          "output_type": "stream",
          "text": [
            "hi\n",
            "Matched\n"
          ]
        }
      ],
      "source": [
        "import re\n",
        "d=input()\n",
        "print(s)\n",
        "a=re.search(\"a*b\",d)\n",
        "if a:\n",
        "  print(\"it Matched\")\n",
        "else:\n",
        "  print(\"Not Matched\")"
      ]
    },
    {
      "cell_type": "code",
      "execution_count": null,
      "metadata": {
        "id": "ZONYl7hqKfn7",
        "outputId": "23cd8361-55b7-41b3-9f64-c2fe2cb5a7f9"
      },
      "outputs": [
        {
          "name": "stdout",
          "output_type": "stream",
          "text": [
            "hi this is meghana\n",
            "Not Matched\n"
          ]
        }
      ],
      "source": [
        "import re\n",
        "a=input()\n",
        "print(a)\n",
        "d=re.search(\"a+b\",a)\n",
        "if d:\n",
        "  print(\"oh yeah Matched\")\n",
        "else:\n",
        "  print(\"Not Matched\")"
      ]
    },
    {
      "cell_type": "code",
      "execution_count": null,
      "metadata": {
        "id": "Qi3Wt_fOKfn8",
        "outputId": "e5a1f395-9f40-4a67-cadd-83f7f3883d1b"
      },
      "outputs": [
        {
          "name": "stdout",
          "output_type": "stream",
          "text": [
            "hihihi\n",
            "the given input:\n",
            "Not Matched\n"
          ]
        }
      ],
      "source": [
        "import re\n",
        "a=input()\n",
        "print(a)\n",
        "d=re.search(\"a?b\",a)\n",
        "print(\"the given input:\")\n",
        "if d:\n",
        "  print(\"Matched\")\n",
        "else:\n",
        "  print(\"Not Matched\")"
      ]
    },
    {
      "cell_type": "code",
      "execution_count": null,
      "metadata": {
        "id": "sWxc8XSIKfn-",
        "outputId": "81a936a3-9adc-4461-f96b-673c08b2f2ea"
      },
      "outputs": [
        {
          "name": "stdout",
          "output_type": "stream",
          "text": [
            "the given input is: hihhi\n",
            "the given word from the input\n",
            "Not Matched\n"
          ]
        }
      ],
      "source": [
        "import re\n",
        "a=input()\n",
        "print(\"the given input is:\",a)\n",
        "d=re.search(\"a{3}b\",a)\n",
        "print(\"the given word from the input\")\n",
        "if d:\n",
        "  print(\"Matched\")\n",
        "else:\n",
        "  print(\"Not Matched\")"
      ]
    },
    {
      "cell_type": "code",
      "execution_count": null,
      "metadata": {
        "id": "EuDBDOo1Kfn_",
        "outputId": "8e25b3a7-ce7b-4c5e-bb47-aef505b0ae50"
      },
      "outputs": [
        {
          "name": "stdout",
          "output_type": "stream",
          "text": [
            "matched\n",
            "Not matched!\n",
            "Not matched!\n"
          ]
        }
      ],
      "source": [
        "import re\n",
        "def tm(a):\n",
        "        b = '^[a-z]+_[a-z]+$'\n",
        "        if re.search(b,  a):\n",
        "                return ('matched')\n",
        "        else:\n",
        "                return('Not matched!')\n",
        "print(tm(\"akram_abra\"))\n",
        "print(tm(\"abra_Abba\"))\n",
        "print(tm(\"Akram_bakram\"))"
      ]
    },
    {
      "cell_type": "code",
      "execution_count": null,
      "metadata": {
        "id": "99tqRZUCKfoA",
        "outputId": "e5181a9b-fd92-4baa-8fb7-6cb0d063c614"
      },
      "outputs": [
        {
          "name": "stdout",
          "output_type": "stream",
          "text": [
            "the given input is--- hihi this is meghana\n",
            "did we find the match?\n",
            "yep!we did\n"
          ]
        }
      ],
      "source": [
        "import re\n",
        "a=input()\n",
        "print(\"the given input is---\",a)\n",
        "d=re.findall('hihi',a)\n",
        "print(\"did we find the match?\")\n",
        "if d:\n",
        "  print(\"yep!we did\")\n",
        "else:\n",
        "  print(\"Nope!!try again\")"
      ]
    },
    {
      "cell_type": "code",
      "execution_count": null,
      "metadata": {
        "id": "d5u-7fTOKfoC",
        "outputId": "cb3520a5-e704-48a5-d54d-e76c0fed6acb"
      },
      "outputs": [
        {
          "name": "stdout",
          "output_type": "stream",
          "text": [
            "['m', 'e', 'g', 'h', 'a', 'n', 'a']\n"
          ]
        }
      ],
      "source": [
        "\n",
        "\n",
        "import re\n",
        "\n",
        "a = \"meghana\"\n",
        "\n",
        "\n",
        "b = re.findall(\".l?\", a)\n",
        "\n",
        "print(b)"
      ]
    },
    {
      "cell_type": "code",
      "execution_count": null,
      "metadata": {
        "id": "vFQmxHnaKfoD",
        "outputId": "60dcef44-8334-4697-9cb6-864bee38ff9c"
      },
      "outputs": [
        {
          "name": "stdout",
          "output_type": "stream",
          "text": [
            "['oll']\n"
          ]
        }
      ],
      "source": [
        "import re\n",
        "a = \" olla amigos\"\n",
        "#Search for a sequence that starts with \"he\", followed by 0 or more  (any) characters, and an \"o\":\n",
        "b = re.findall(\".l{2}\", a)\n",
        "print(b)"
      ]
    },
    {
      "cell_type": "code",
      "execution_count": null,
      "metadata": {
        "id": "VYJ4hkAgKfoG",
        "outputId": "39d9c353-d807-46ca-b317-44095e3b9a8e"
      },
      "outputs": [
        {
          "name": "stdout",
          "output_type": "stream",
          "text": [
            "element to be searched for is: gitam\n",
            "found\n",
            "['gitam']\n"
          ]
        }
      ],
      "source": [
        "import re\n",
        "\n",
        "A = \"meghana is a gitam student.she is currently in her 1st year of engineering CSE\"\n",
        "C=input(\"enter the word to be searched for:\")\n",
        "print(\"element to be searched for is:\",C)\n",
        "#Check if the string contains dynamic input:\n",
        "if C in A:\n",
        "    print(\"found\")\n",
        "    b = re.findall(C, A)\n",
        "    print(b)\n",
        "else:\n",
        "    print(\"not found\")"
      ]
    },
    {
      "cell_type": "code",
      "execution_count": null,
      "metadata": {
        "id": "vwHPWJItKfoH",
        "outputId": "f26a3577-f396-41d9-cae2-8e3689ee315c"
      },
      "outputs": [
        {
          "name": "stdout",
          "output_type": "stream",
          "text": [
            "['meghana']\n",
            "MATCH FOUNDD!!!!\n"
          ]
        }
      ],
      "source": [
        "import re\n",
        "A = \"meghana is a gitam student.she is currently in her 1st year of engineering CSE\"\n",
        "\n",
        "\n",
        "#Check if the string starts with \"NAME\":\n",
        "\n",
        "B = re.findall(\"\\Ameghana\", A)\n",
        "\n",
        "print(B)\n",
        "if B:\n",
        "  print(\"MATCH FOUNDD!!!!\")\n",
        "else:\n",
        "  print(\"Not Found!!,SAD\")"
      ]
    },
    {
      "cell_type": "code",
      "execution_count": null,
      "metadata": {
        "id": "uCM-v2ryKfoI",
        "outputId": "d0a44c4d-ea7e-42ed-8c25-15012912500b"
      },
      "outputs": [
        {
          "name": "stdout",
          "output_type": "stream",
          "text": [
            "FOUND\n",
            "['CSE']\n"
          ]
        }
      ],
      "source": [
        "import re\n",
        "A = \"meghana is a gitam student.she is currently in her 1st year of engineering CSE\"\n",
        "b=input(\"enter the input to be searched for in the end\")\n",
        "#Returns a match where the specified characters at the end of a word\n",
        "if b in A:\n",
        "    print(\"FOUND\")\n",
        "    x = re.findall(b, A)\n",
        "print(x)"
      ]
    },
    {
      "cell_type": "code",
      "execution_count": null,
      "metadata": {
        "id": "rSPVDAAdKfoI",
        "outputId": "e315497f-459f-466d-bed8-829e552a3afe"
      },
      "outputs": [
        {
          "name": "stdout",
          "output_type": "stream",
          "text": [
            "the given input is--- (meghana is a gitam student.she is currently in her 1st year of engineering CSE)\n",
            "The number of times the given input is ofund is =  2\n",
            "['er', 'er']\n"
          ]
        }
      ],
      "source": [
        "import re\n",
        "A = \"(meghana is a gitam student.she is currently in her 1st year of engineering CSE)\"\n",
        "\n",
        "print(\"the given input is---\",A)\n",
        "#Returns a match where the specified characters are present, but NOT at the beginning (or at the end) of a word\n",
        "B=re.findall(r\"er\",A)\n",
        "\n",
        "print(\"The number of times the given input is ofund is = \",len(B))\n",
        "print(B)"
      ]
    },
    {
      "cell_type": "code",
      "execution_count": null,
      "metadata": {
        "id": "BL47lD3RKfoJ",
        "outputId": "36c4b6d6-7439-4c80-9c23-4482b4303077"
      },
      "outputs": [
        {
          "name": "stdout",
          "output_type": "stream",
          "text": [
            "found\n",
            "['2', '0', '2', '1', '2', '0', '2', '2']\n"
          ]
        }
      ],
      "source": [
        "import re \n",
        "a=\"This academic year 2021-2022 is coming to an end\"\n",
        "#check if string contains digits\n",
        "b=re.findall(\"\\d\",a)\n",
        "if b :\n",
        "    print(\"found!!\")\n",
        "else:\n",
        "    print(\"not found\")\n",
        "print(b)"
      ]
    },
    {
      "cell_type": "code",
      "execution_count": null,
      "metadata": {
        "id": "fFoPQ2TEKfoJ",
        "outputId": "0d80065a-d51a-479d-deb3-aa036d5acc60"
      },
      "outputs": [
        {
          "name": "stdout",
          "output_type": "stream",
          "text": [
            "['T', 'h', 'i', 's', ' ', 'a', 'c', 'a', 'd', 'e', 'm', 'i', 'c', ' ', 'y', 'e', 'a', 'r', ' ', '-', ' ', 'i', 's', ' ', 'c', 'o', 'm', 'i', 'n', 'g', ' ', 't', 'o', ' ', 'a', 'n', ' ', 'e', 'n', 'd']\n"
          ]
        }
      ],
      "source": [
        "#Returns a match where the string DOES NOT contain digits\n",
        "a=\"This academic year 2021-2022 is coming to an end\"\n",
        "\n",
        "##noye here we use capital D\n",
        "b=re.findall(\"\\D\",a)\n",
        "print(b)"
      ]
    },
    {
      "cell_type": "code",
      "execution_count": null,
      "metadata": {
        "id": "DugeP7tdKfoK",
        "outputId": "0182cab0-17cd-466d-e984-72424798dbd3"
      },
      "outputs": [
        {
          "name": "stdout",
          "output_type": "stream",
          "text": [
            "[' ', ' ', ' ', ' ', ' ', ' ', ' ', ' ', ' ', ' ', ' ', ' ', ' ']\n"
          ]
        }
      ],
      "source": [
        "#returns match of spaces\n",
        "a=\"This academic year 2021-2022 is coming to an end\"\n",
        "b=re.findall(\"\\s\",A)\n",
        "print(b)"
      ]
    },
    {
      "cell_type": "code",
      "execution_count": null,
      "metadata": {
        "id": "Y_IZ936BKfoK",
        "outputId": "bd31feec-b3b3-48db-efbf-b7c3b73d7d53"
      },
      "outputs": [
        {
          "name": "stdout",
          "output_type": "stream",
          "text": [
            "['T', 'h', 'i', 's', 'a', 'c', 'a', 'd', 'e', 'm', 'i', 'c', 'y', 'e', 'a', 'r', '2', '0', '2', '1', '-', '2', '0', '2', '2', 'i', 's', 'c', 'o', 'm', 'i', 'n', 'g', 't', 'o', 'a', 'n', 'e', 'n', 'd']\n"
          ]
        }
      ],
      "source": [
        "#Returns a match where the string DOES NOT contain a white space character\n",
        "a=\"This academic year 2021-2022 is coming to an end\"\n",
        "\n",
        "b=re.findall(\"\\S\",a)\n",
        "print(b)"
      ]
    },
    {
      "cell_type": "code",
      "execution_count": null,
      "metadata": {
        "id": "82KWhQ96KfoK",
        "outputId": "a2eebc34-3b22-44cc-9670-e2ed95cda389"
      },
      "outputs": [
        {
          "name": "stdout",
          "output_type": "stream",
          "text": [
            "['T', 'h', 'i', 's', 'a', 'c', 'a', 'd', 'e', 'm', 'i', 'c', 'y', 'e', 'a', 'r', '2', '0', '2', '1', '2', '0', '2', '2', 'i', 's', 'c', 'o', 'm', 'i', 'n', 'g', 't', 'o', 'a', 'n', 'e', 'n', 'd']\n"
          ]
        }
      ],
      "source": [
        "#Returns a match where the string contains any word characters (characters from a to Z, digits from 0-9, and the underscore _ character)\n",
        "a=\"This academic year 2021-2022 is coming to an end\"\n",
        "\n",
        "b=re.findall(\"\\w\",a)\n",
        "print(b)"
      ]
    },
    {
      "cell_type": "code",
      "execution_count": null,
      "metadata": {
        "id": "ldoc7ZGCKfoL",
        "outputId": "c4a016d2-23fe-4322-a501-b594c6216d9f"
      },
      "outputs": [
        {
          "name": "stdout",
          "output_type": "stream",
          "text": [
            "[' ', ' ', ' ', '-', ' ', ' ', ' ', ' ', ' ']\n"
          ]
        }
      ],
      "source": [
        "#\tReturns a match where the string DOES NOT contain any word characters\n",
        "a=\"This academic year 2021-2022 is coming to an end\"\n",
        "\n",
        "b=re.findall(\"\\W\",a)\n",
        "print(b)"
      ]
    },
    {
      "cell_type": "code",
      "execution_count": null,
      "metadata": {
        "id": "m6phC3qJKfoL",
        "outputId": "bf8edace-0731-4bc6-9840-037ec0308d05"
      },
      "outputs": [
        {
          "name": "stdout",
          "output_type": "stream",
          "text": [
            "['end']\n"
          ]
        }
      ],
      "source": [
        "#\tReturns a match if the specified characters are at the end of the string\n",
        "a=\"This academic year 2021-2022 is coming to an end\"\n",
        "c=input(\"enter the input\")\n",
        "if c in a:\n",
        "    b=re.findall(c,a)\n",
        "print(b)"
      ]
    }
  ],
  "metadata": {
    "kernelspec": {
      "display_name": "Python 3.9.7 ('base')",
      "language": "python",
      "name": "python3"
    },
    "language_info": {
      "codemirror_mode": {
        "name": "ipython",
        "version": 3
      },
      "file_extension": ".py",
      "mimetype": "text/x-python",
      "name": "python",
      "nbconvert_exporter": "python",
      "pygments_lexer": "ipython3",
      "version": "3.9.7"
    },
    "orig_nbformat": 4,
    "vscode": {
      "interpreter": {
        "hash": "70b2dafa475ddc6a02bd879a01c06602163935e9662a281bb07d15788599db89"
      }
    },
    "colab": {
      "name": "module5.ipynb",
      "provenance": [],
      "include_colab_link": true
    }
  },
  "nbformat": 4,
  "nbformat_minor": 0
}