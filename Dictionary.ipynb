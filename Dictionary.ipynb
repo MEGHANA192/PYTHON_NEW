{
  "nbformat": 4,
  "nbformat_minor": 0,
  "metadata": {
    "colab": {
      "name": "Dictionary",
      "provenance": [],
      "collapsed_sections": [],
      "authorship_tag": "ABX9TyMF1pk6VBYW+jmMTtgw0aSM",
      "include_colab_link": true
    },
    "kernelspec": {
      "name": "python3",
      "display_name": "Python 3"
    },
    "language_info": {
      "name": "python"
    }
  },
  "cells": [
    {
      "cell_type": "markdown",
      "metadata": {
        "id": "view-in-github",
        "colab_type": "text"
      },
      "source": [
        "<a href=\"https://colab.research.google.com/github/MEGHANA192/PYTHON_NEW/blob/MODULE_2/Dictionary.ipynb\" target=\"_parent\"><img src=\"https://colab.research.google.com/assets/colab-badge.svg\" alt=\"Open In Colab\"/></a>"
      ]
    },
    {
      "cell_type": "markdown",
      "source": [
        "## Python Dictionaries"
      ],
      "metadata": {
        "id": "812Ugpx1bRbV"
      }
    },
    {
      "cell_type": "code",
      "execution_count": null,
      "metadata": {
        "colab": {
          "base_uri": "https://localhost:8080/"
        },
        "id": "c9Duprsjaolp",
        "outputId": "5beda7e3-d736-4041-8fc4-084580437e6d"
      },
      "outputs": [
        {
          "output_type": "stream",
          "name": "stdout",
          "text": [
            "{'brand': 'tesla', 'model': 'x', 'year': 2015}\n",
            "<class 'dict'>\n"
          ]
        }
      ],
      "source": [
        "dicty = {\n",
        "  \"brand\": \"tesla\",\n",
        "  \"model\": \"x\",\n",
        "  \"year\": 2015\n",
        "}  \n",
        "print(dicty)\n",
        "print(type(dicty))"
      ]
    },
    {
      "cell_type": "markdown",
      "source": [
        "Print the \"brand\" value of the dictionary:"
      ],
      "metadata": {
        "id": "PZ7gn8g3dqF2"
      }
    },
    {
      "cell_type": "code",
      "source": [
        "dicty = {\n",
        "  \"brand\": \"tesla\",\n",
        "  \"model\": \"x\",\n",
        "  \"year\": 2015\n",
        "}\n",
        "print(dicty[\"brand\"])"
      ],
      "metadata": {
        "id": "3gQFzP3jeebk",
        "colab": {
          "base_uri": "https://localhost:8080/"
        },
        "outputId": "40a76574-9b93-49ff-dc74-8ae3cde91fee"
      },
      "execution_count": null,
      "outputs": [
        {
          "output_type": "stream",
          "name": "stdout",
          "text": [
            "tesla\n"
          ]
        }
      ]
    },
    {
      "cell_type": "markdown",
      "source": [
        "Dictionary Items - Data Types\n"
      ],
      "metadata": {
        "id": "nlCEQqv-hMNz"
      }
    },
    {
      "cell_type": "code",
      "source": [
        "dicty = {\n",
        "  \"brand\": \"tesla\",\n",
        "  \"electric\": False,\n",
        "  \"year\": 2015,\n",
        "  \"colors\": [\"red\", \"white\", \"blue\"]\n",
        "}\n",
        "print(dicty)"
      ],
      "metadata": {
        "colab": {
          "base_uri": "https://localhost:8080/"
        },
        "id": "YSJNoVNxJSrX",
        "outputId": "1946e139-65d6-4b98-c988-d5f6faf2c00a"
      },
      "execution_count": null,
      "outputs": [
        {
          "output_type": "stream",
          "name": "stdout",
          "text": [
            "{'brand': 'tesla', 'electric': False, 'year': 2015, 'colors': ['red', 'white', 'blue']}\n"
          ]
        }
      ]
    },
    {
      "cell_type": "markdown",
      "source": [
        "Accessing Items\n"
      ],
      "metadata": {
        "id": "ibHts_hMhfYu"
      }
    },
    {
      "cell_type": "code",
      "source": [
        "dicty = {\n",
        "  \"brand\": \"tesla\",\n",
        "  \"model\": \"x\",\n",
        "  \"year\": 2015\n",
        "}\n",
        "x = dicty[\"model\"]\n",
        "x = dicty.get(\"model\")\n",
        "x = dicty.keys()\n",
        "x = dicty.values()\n",
        "x = dicty.items()\n",
        "print(x)"
      ],
      "metadata": {
        "colab": {
          "base_uri": "https://localhost:8080/"
        },
        "id": "mjxplgCKJZ1O",
        "outputId": "2f1d98fe-36fb-4011-a2db-da983942da99"
      },
      "execution_count": null,
      "outputs": [
        {
          "output_type": "stream",
          "name": "stdout",
          "text": [
            "dict_items([('brand', 'tesla'), ('model', 'x'), ('year', 2015)])\n"
          ]
        }
      ]
    },
    {
      "cell_type": "code",
      "source": [
        "car = {\n",
        "\"brand\": \"tesla\",\n",
        "\"model\": \"x\",\n",
        "\"year\": 2015\n",
        "}\n",
        "x = car.keys()\n",
        "print(x) \n",
        "car[\"color\"] = \"white\"\n",
        "print(x) "
      ],
      "metadata": {
        "colab": {
          "base_uri": "https://localhost:8080/"
        },
        "id": "JTDBfZzoJhQw",
        "outputId": "6abb39fe-9642-4f57-e94b-e67c57e3e1cb"
      },
      "execution_count": null,
      "outputs": [
        {
          "output_type": "stream",
          "name": "stdout",
          "text": [
            "dict_keys(['brand', 'model', 'year'])\n",
            "dict_keys(['brand', 'model', 'year', 'color'])\n"
          ]
        }
      ]
    },
    {
      "cell_type": "code",
      "source": [
        "car = {\n",
        "\"brand\": \"tesla\",\n",
        "\"model\": \"x\",\n",
        "\"year\": 2015\n",
        "}\n",
        "x = car.items()\n",
        "print(x) \n",
        "car[\"year\"] = 2021\n",
        "print(x) "
      ],
      "metadata": {
        "colab": {
          "base_uri": "https://localhost:8080/"
        },
        "id": "B1vMJNu4Jn4L",
        "outputId": "d60a95a0-7c01-42ab-8d63-e976c140a1c8"
      },
      "execution_count": null,
      "outputs": [
        {
          "output_type": "stream",
          "name": "stdout",
          "text": [
            "dict_items([('brand', 'tesla'), ('model', 'x'), ('year', 2015)])\n",
            "dict_items([('brand', 'tesla'), ('model', 'x'), ('year', 2021)])\n"
          ]
        }
      ]
    },
    {
      "cell_type": "code",
      "source": [
        "dicty = {\n",
        "  \"brand\": \"tesla\",\n",
        "  \"model\": \"x\",\n",
        "  \"year\": 2015\n",
        "}\n",
        "if \"model\" in dicty:\n",
        "  print(\"Yes, 'model' is one of the keys in the dicty dictionary\")\n"
      ],
      "metadata": {
        "colab": {
          "base_uri": "https://localhost:8080/"
        },
        "id": "TdB2DZWiJwFi",
        "outputId": "0b220703-740d-4e8a-ea68-8db8e7234386"
      },
      "execution_count": null,
      "outputs": [
        {
          "output_type": "stream",
          "name": "stdout",
          "text": [
            "Yes, 'model' is one of the keys in the dicty dictionary\n"
          ]
        }
      ]
    },
    {
      "cell_type": "markdown",
      "source": [
        "Change Values\n"
      ],
      "metadata": {
        "id": "LJHwvWNCh5F9"
      }
    },
    {
      "cell_type": "code",
      "source": [
        "dicty = {\n",
        "  \"brand\": \"tesla\",\n",
        "  \"model\": \"x\",\n",
        "  \"year\": 2015\n",
        "}\n",
        "dicty[\"year\"] = 2021\n",
        "print(dicty)"
      ],
      "metadata": {
        "colab": {
          "base_uri": "https://localhost:8080/"
        },
        "id": "Z0PYpABzJ5Os",
        "outputId": "3a725f63-49ea-40e9-b8ca-fc5ef7e37205"
      },
      "execution_count": null,
      "outputs": [
        {
          "output_type": "stream",
          "name": "stdout",
          "text": [
            "{'brand': 'tesla', 'model': 'x', 'year': 2021}\n"
          ]
        }
      ]
    },
    {
      "cell_type": "markdown",
      "source": [
        "Update Dictionary\n"
      ],
      "metadata": {
        "id": "v6R0Gcx7hxo9"
      }
    },
    {
      "cell_type": "code",
      "source": [
        "dicty = {\n",
        "  \"brand\": \"tesla\",\n",
        "  \"model\": \"x\",\n",
        "  \"year\": 2015\n",
        "}\n",
        "dicty.update({\"year\": 2021})\n",
        "print(dicty)"
      ],
      "metadata": {
        "colab": {
          "base_uri": "https://localhost:8080/"
        },
        "id": "XyK_fbnyJ_13",
        "outputId": "b93aadbc-df75-4bde-9347-f84e9cb8b479"
      },
      "execution_count": null,
      "outputs": [
        {
          "output_type": "stream",
          "name": "stdout",
          "text": [
            "{'brand': 'tesla', 'model': 'x', 'year': 2021}\n"
          ]
        }
      ]
    },
    {
      "cell_type": "markdown",
      "source": [
        "Adding Items\n"
      ],
      "metadata": {
        "id": "GQJzbaejh-of"
      }
    },
    {
      "cell_type": "code",
      "source": [
        "dicty = {\n",
        "  \"brand\": \"tesla\",\n",
        "  \"model\": \"x\",\n",
        "  \"year\": 2015\n",
        "}\n",
        "dicty[\"color\"] = \"red\"\n",
        "print(dicty)"
      ],
      "metadata": {
        "colab": {
          "base_uri": "https://localhost:8080/"
        },
        "id": "W6p0k0JHKGqp",
        "outputId": "e714ff26-a9ae-4dca-a78c-f27b52509072"
      },
      "execution_count": null,
      "outputs": [
        {
          "output_type": "stream",
          "name": "stdout",
          "text": [
            "{'brand': 'tesla', 'model': 'x', 'year': 2015, 'color': 'red'}\n"
          ]
        }
      ]
    },
    {
      "cell_type": "markdown",
      "source": [
        "Update Dictionary\n"
      ],
      "metadata": {
        "id": "ed6886Ywh_zd"
      }
    },
    {
      "cell_type": "code",
      "source": [
        "dicty = {\n",
        "  \"brand\": \"tesla\",\n",
        "  \"model\": \"x\",\n",
        "  \"year\": 2015\n",
        "}\n",
        "dicty.update({\"color\": \"red\"})\n",
        "print(dicty)"
      ],
      "metadata": {
        "colab": {
          "base_uri": "https://localhost:8080/"
        },
        "id": "u3NFzOqqKQtA",
        "outputId": "b1bb234e-7741-4a91-ba64-7f0f6d2c5ed4"
      },
      "execution_count": null,
      "outputs": [
        {
          "output_type": "stream",
          "name": "stdout",
          "text": [
            "{'brand': 'tesla', 'model': 'x', 'year': 2015, 'color': 'red'}\n"
          ]
        }
      ]
    },
    {
      "cell_type": "markdown",
      "source": [
        "Removing Items\n"
      ],
      "metadata": {
        "id": "h1XxSR2oiGrX"
      }
    },
    {
      "cell_type": "code",
      "source": [
        "dicty = {\n",
        "  \"brand\": \"tesla\",\n",
        "  \"model\": \"x\",\n",
        "  \"year\": 2015\n",
        "}\n",
        "dicty.pop(\"model\")\n",
        "print(dicty)"
      ],
      "metadata": {
        "colab": {
          "base_uri": "https://localhost:8080/"
        },
        "id": "W3OuA3m-KZ2G",
        "outputId": "d7449e9e-4ef4-4ef3-a275-cd1ca0473c04"
      },
      "execution_count": null,
      "outputs": [
        {
          "output_type": "stream",
          "name": "stdout",
          "text": [
            "{'brand': 'tesla', 'year': 2015}\n"
          ]
        }
      ]
    },
    {
      "cell_type": "code",
      "source": [
        "dicty = {\n",
        "  \"brand\": \"tesla\",\n",
        "  \"model\": \"x\",\n",
        "  \"year\": 2015\n",
        "}\n",
        "dicty.popitem()\n",
        "print(dicty)"
      ],
      "metadata": {
        "colab": {
          "base_uri": "https://localhost:8080/"
        },
        "id": "SLrl7fmuKxkN",
        "outputId": "a112e0fa-e7f5-40df-826d-beb834122cb3"
      },
      "execution_count": null,
      "outputs": [
        {
          "output_type": "stream",
          "name": "stdout",
          "text": [
            "{'brand': 'tesla', 'model': 'x'}\n"
          ]
        }
      ]
    },
    {
      "cell_type": "code",
      "source": [
        "dicty = {\n",
        "  \"brand\": \"tesla\",\n",
        "  \"model\": \"x\",\n",
        "  \"year\": 2015\n",
        "}\n",
        "del dicty[\"model\"]\n",
        "print(dicty)"
      ],
      "metadata": {
        "colab": {
          "base_uri": "https://localhost:8080/"
        },
        "id": "JJLne5ilK_Lz",
        "outputId": "8a8f0297-bf4a-4300-b309-03201899523d"
      },
      "execution_count": null,
      "outputs": [
        {
          "output_type": "stream",
          "name": "stdout",
          "text": [
            "{'brand': 'tesla', 'year': 2015}\n"
          ]
        }
      ]
    },
    {
      "cell_type": "code",
      "source": [
        "dicty = {\n",
        "  \"brand\": \"tesla\",\n",
        "  \"model\": \"x\",\n",
        "  \"year\": 2015\n",
        "}\n",
        "del dicty\n",
        "print(dicty)"
      ],
      "metadata": {
        "colab": {
          "base_uri": "https://localhost:8080/",
          "height": 200
        },
        "id": "ex6Ku3zdLSgP",
        "outputId": "d9bf1f6d-924c-4fd3-9fc8-4e7a7df78a05"
      },
      "execution_count": null,
      "outputs": [
        {
          "output_type": "error",
          "ename": "NameError",
          "evalue": "ignored",
          "traceback": [
            "\u001b[0;31m---------------------------------------------------------------------------\u001b[0m",
            "\u001b[0;31mNameError\u001b[0m                                 Traceback (most recent call last)",
            "\u001b[0;32m<ipython-input-17-d0ace6ab7761>\u001b[0m in \u001b[0;36m<module>\u001b[0;34m()\u001b[0m\n\u001b[1;32m      5\u001b[0m }\n\u001b[1;32m      6\u001b[0m \u001b[0;32mdel\u001b[0m \u001b[0mdicty\u001b[0m\u001b[0;34m\u001b[0m\u001b[0;34m\u001b[0m\u001b[0m\n\u001b[0;32m----> 7\u001b[0;31m \u001b[0mprint\u001b[0m\u001b[0;34m(\u001b[0m\u001b[0mdicty\u001b[0m\u001b[0;34m)\u001b[0m\u001b[0;34m\u001b[0m\u001b[0;34m\u001b[0m\u001b[0m\n\u001b[0m",
            "\u001b[0;31mNameError\u001b[0m: name 'dicty' is not defined"
          ]
        }
      ]
    },
    {
      "cell_type": "code",
      "source": [
        "dicty = {\n",
        "  \"brand\": \"tesla\",\n",
        "  \"model\": \"x\",\n",
        "  \"year\": 2015\n",
        "}\n",
        "dicty.clear()\n",
        "print(dicty)"
      ],
      "metadata": {
        "colab": {
          "base_uri": "https://localhost:8080/"
        },
        "id": "-ddoRzOvLhSZ",
        "outputId": "7e3db502-0252-4179-da94-6fd42accf691"
      },
      "execution_count": null,
      "outputs": [
        {
          "output_type": "stream",
          "name": "stdout",
          "text": [
            "{}\n"
          ]
        }
      ]
    },
    {
      "cell_type": "markdown",
      "source": [
        "Loop Through a Dictionary\n"
      ],
      "metadata": {
        "id": "3pi1Qeb6iWo5"
      }
    },
    {
      "cell_type": "code",
      "source": [
        "dicty =\t{\n",
        "  \"brand\": \"tesla\",\n",
        "  \"model\": \"x\",\n",
        "  \"year\": 2015\n",
        "}\n",
        "for x in dicty:\n",
        "  print(x)"
      ],
      "metadata": {
        "colab": {
          "base_uri": "https://localhost:8080/"
        },
        "id": "QRikpC7xLy2I",
        "outputId": "b6d8f39e-96d3-4fb9-cbb5-1b8bab454bbb"
      },
      "execution_count": null,
      "outputs": [
        {
          "output_type": "stream",
          "name": "stdout",
          "text": [
            "brand\n",
            "model\n",
            "year\n"
          ]
        }
      ]
    },
    {
      "cell_type": "code",
      "source": [
        "dicty =\t{\n",
        "  \"brand\": \"tesla\",\n",
        "  \"model\": \"x\",\n",
        "  \"year\": 2015\n",
        "}\n",
        "for x in dicty:\n",
        "  print(dicty[x])"
      ],
      "metadata": {
        "colab": {
          "base_uri": "https://localhost:8080/"
        },
        "id": "zeDReORwMFqE",
        "outputId": "1fba6473-e304-4cfc-e687-67bdeb52898c"
      },
      "execution_count": null,
      "outputs": [
        {
          "output_type": "stream",
          "name": "stdout",
          "text": [
            "tesla\n",
            "x\n",
            "2015\n"
          ]
        }
      ]
    },
    {
      "cell_type": "code",
      "source": [
        "dicty =\t{\n",
        "  \"brand\": \"tesla\",\n",
        "  \"model\": \"x\",\n",
        "  \"year\": 2015\n",
        "}\n",
        "for x in dicty.values():\n",
        "  print(x)\n"
      ],
      "metadata": {
        "colab": {
          "base_uri": "https://localhost:8080/"
        },
        "id": "kLANPpuEMWKd",
        "outputId": "539be339-5df1-4e6c-8b85-a1a17e021c98"
      },
      "execution_count": null,
      "outputs": [
        {
          "output_type": "stream",
          "name": "stdout",
          "text": [
            "tesla\n",
            "x\n",
            "2015\n"
          ]
        }
      ]
    },
    {
      "cell_type": "code",
      "source": [
        "dicty =\t{\n",
        "  \"brand\": \"tesla\",\n",
        "  \"model\": \"x\",\n",
        "  \"year\": 2015\n",
        "}\n",
        "for x in dicty.keys():\n",
        "  print(x)\n"
      ],
      "metadata": {
        "colab": {
          "base_uri": "https://localhost:8080/"
        },
        "id": "QP_mC6ENMmgo",
        "outputId": "79e70144-a55d-4359-d086-7dae9d4a3492"
      },
      "execution_count": null,
      "outputs": [
        {
          "output_type": "stream",
          "name": "stdout",
          "text": [
            "brand\n",
            "model\n",
            "year\n"
          ]
        }
      ]
    },
    {
      "cell_type": "code",
      "source": [
        "dicty =\t{\n",
        "  \"brand\": \"tesla\",\n",
        "  \"model\": \"x\",\n",
        "  \"year\": 2015\n",
        "}\n",
        "for x, y in dicty.items():\n",
        "  print(x, y)\n"
      ],
      "metadata": {
        "colab": {
          "base_uri": "https://localhost:8080/"
        },
        "id": "3ad4X_ZnM4Oe",
        "outputId": "7b6f3dc7-5c71-445f-c48f-a663e0a78acc"
      },
      "execution_count": null,
      "outputs": [
        {
          "output_type": "stream",
          "name": "stdout",
          "text": [
            "brand tesla\n",
            "model x\n",
            "year 2015\n"
          ]
        }
      ]
    },
    {
      "cell_type": "markdown",
      "source": [
        "Copy a Dictionary\n"
      ],
      "metadata": {
        "id": "-5KprdJNib3C"
      }
    },
    {
      "cell_type": "code",
      "source": [
        "dicty = {\n",
        "  \"brand\": \"tesla\",\n",
        "  \"model\": \"x\",\n",
        "  \"year\": 2015\n",
        "}\n",
        "mydict = dicty.copy()\n",
        "print(mydict)"
      ],
      "metadata": {
        "colab": {
          "base_uri": "https://localhost:8080/"
        },
        "id": "yn7EOLfZNMZJ",
        "outputId": "a7cd7707-fd70-4297-cbaa-4e4193934a1d"
      },
      "execution_count": null,
      "outputs": [
        {
          "output_type": "stream",
          "name": "stdout",
          "text": [
            "{'brand': 'tesla', 'model': 'x', 'year': 2015}\n"
          ]
        }
      ]
    },
    {
      "cell_type": "code",
      "source": [
        "dicty = {\n",
        "  \"brand\": \"tesla\",\n",
        "  \"model\": \"x\",\n",
        "  \"year\": 2015\n",
        "}\n",
        "mydict = dict(dicty)\n",
        "print(mydict)\n"
      ],
      "metadata": {
        "colab": {
          "base_uri": "https://localhost:8080/"
        },
        "id": "XbMkL-ToNfGv",
        "outputId": "b3dcc9de-e9a6-45d7-c5fa-63a1cd2a810f"
      },
      "execution_count": null,
      "outputs": [
        {
          "output_type": "stream",
          "name": "stdout",
          "text": [
            "{'brand': 'tesla', 'model': 'x', 'year': 2015}\n"
          ]
        }
      ]
    },
    {
      "cell_type": "markdown",
      "source": [
        "Nested Dictionaries"
      ],
      "metadata": {
        "id": "9qTdTSV1iiHV"
      }
    },
    {
      "cell_type": "code",
      "source": [
        "family = {\n",
        "  \"child1\" : {\n",
        "    \"name\" : \"meghana\",\n",
        "    \"year\" : 2004\n",
        "  },\n",
        "  \"child2\" : {\n",
        "    \"name\" : \"krishna\",\n",
        "    \"year\" : 2007\n",
        "  },\n",
        "  \"child3\" : {\n",
        "    \"name\" : \"bunny\",\n",
        "    \"year\" : 2007\n",
        "  }\n",
        "}\n",
        "print(family)"
      ],
      "metadata": {
        "colab": {
          "base_uri": "https://localhost:8080/"
        },
        "id": "lkEzEnFsPNtO",
        "outputId": "a976f271-1a9e-45ac-f374-69644b2555db"
      },
      "execution_count": null,
      "outputs": [
        {
          "output_type": "stream",
          "name": "stdout",
          "text": [
            "{'child1': {'name': 'meghana', 'year': 2004}, 'child2': {'name': 'krishna', 'year': 2007}, 'child3': {'name': 'bunny', 'year': 2007}}\n"
          ]
        }
      ]
    },
    {
      "cell_type": "code",
      "source": [
        "child1 = {\n",
        "  \"name\" : \"meghana\",\n",
        "  \"year\" : 2004\n",
        "}\n",
        "child2 = {\n",
        "  \"name\" : \"krishna\",\n",
        "  \"year\" : 2007\n",
        "}\n",
        "child3 = {\n",
        "  \"name\" : \"bunny\",\n",
        "  \"year\" : 2007\n",
        "}\n",
        "\n",
        "family = {\n",
        "  \"child1\" : child1,\n",
        "  \"child2\" : child2,\n",
        "  \"child3\" : child3\n",
        "}\n",
        "print(family)"
      ],
      "metadata": {
        "colab": {
          "base_uri": "https://localhost:8080/"
        },
        "id": "KmAMTPdzPVJB",
        "outputId": "2798dbda-6729-411e-deeb-821651e12072"
      },
      "execution_count": null,
      "outputs": [
        {
          "output_type": "stream",
          "name": "stdout",
          "text": [
            "{'child1': {'name': 'meghana', 'year': 2004}, 'child2': {'name': 'krishna', 'year': 2007}, 'child3': {'name': 'bunny', 'year': 2007}}\n"
          ]
        }
      ]
    }
  ]
}