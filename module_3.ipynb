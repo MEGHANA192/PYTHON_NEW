{
  "cells": [
    {
      "cell_type": "markdown",
      "metadata": {
        "id": "view-in-github",
        "colab_type": "text"
      },
      "source": [
        "<a href=\"https://colab.research.google.com/github/MEGHANA192/PYTHON_NEW/blob/MODULE_3/module_3.ipynb\" target=\"_parent\"><img src=\"https://colab.research.google.com/assets/colab-badge.svg\" alt=\"Open In Colab\"/></a>"
      ]
    },
    {
      "cell_type": "code",
      "execution_count": null,
      "id": "af2ecba3",
      "metadata": {
        "id": "af2ecba3",
        "outputId": "9af6a1f8-09a1-492a-8d3b-0f424f2cf515"
      },
      "outputs": [
        {
          "name": "stdout",
          "output_type": "stream",
          "text": [
            "hi this is meghana\n",
            "reg no: vu21csen0101487\n",
            "AGE :18\n",
            "SUBJECT:CSEN(PROGRAMMING WITH PYTHON)\n"
          ]
        }
      ],
      "source": [
        "##TO THE READ THE ENTIRE TEXT FILE\n",
        "meghana=open(r\"E:\\meghana1487.txt\")\n",
        "print(meghana.read())"
      ]
    },
    {
      "cell_type": "code",
      "execution_count": null,
      "id": "a2645394",
      "metadata": {
        "id": "a2645394",
        "outputId": "de2a6841-e21f-41b2-8361-82b2eeb7125f"
      },
      "outputs": [
        {
          "name": "stdout",
          "output_type": "stream",
          "text": [
            "hi this is meghana\n",
            "\n",
            "reg no: vu21csen0101487\n",
            "\n",
            "AGE :18\n",
            "\n"
          ]
        }
      ],
      "source": [
        "\n",
        "\n",
        "##TO READ THE TEXT LINE BY LINE\n",
        "meghana=open(r\"E:\\meghana1487.txt\")\n",
        "#1line\n",
        "print(meghana.readline())\n",
        "#2line\n",
        "print(meghana.readline())\n",
        "#line 3\n",
        "print(meghana.readline())\n",
        "\n"
      ]
    },
    {
      "cell_type": "code",
      "execution_count": null,
      "id": "68f77303",
      "metadata": {
        "id": "68f77303",
        "outputId": "f3975063-d24c-404f-baa8-9b44d236e1d5"
      },
      "outputs": [
        {
          "name": "stdout",
          "output_type": "stream",
          "text": [
            "Even numbers:\n",
            "34\n",
            "42\n",
            "58\n",
            "68\n",
            "72\n",
            "26\n",
            "158\n",
            "348\n",
            "546454\n",
            "1422\n",
            "036\n",
            "\n",
            "Odd numbers:\n",
            "91\n",
            "17\n",
            "13\n",
            "81\n",
            "945\n",
            "641\n",
            "347\n",
            "259\n",
            "25\n",
            "37\n",
            "05\n",
            "19\n",
            "115\n",
            "047\n",
            "0485\n",
            "33\n",
            "35\n",
            "47\n",
            "49\n",
            "89\n"
          ]
        }
      ],
      "source": [
        "##even odd\n",
        "meghana=open(r\"E:\\allnumbers.txt\")\n",
        "even=open('E:\\evennum.txt','w')\n",
        "odd=open('E:\\oddnum.txt','w')\n",
        "even.write('Even numbers:\\n')\n",
        "odd.write('Odd numbers:\\n')\n",
        "for i in meghana:\n",
        "  if int(i)%2==0:\n",
        "    even=open('E:\\evennum.txt','a')\n",
        "    even.write(i)\n",
        "  else:\n",
        "    odd=open('E:\\oddnum.txt','a')\n",
        "    odd.write(i)\n",
        "even.close()\n",
        "odd.close()\n",
        "even=open('E:\\evennum.txt','r')\n",
        "print(even.read())\n",
        "even.close()\n",
        "odd=open('E:\\oddnum.txt','r')\n",
        "print(odd.read())\n",
        "odd.close()"
      ]
    },
    {
      "cell_type": "code",
      "execution_count": null,
      "id": "19f034f1",
      "metadata": {
        "id": "19f034f1",
        "outputId": "4308a64f-ad2b-4686-a865-a3b8a1764224"
      },
      "outputs": [
        {
          "name": "stdout",
          "output_type": "stream",
          "text": [
            "4 12 88\n"
          ]
        }
      ],
      "source": [
        "##length of each line\n",
        "meghana = open(r\"E:\\meghana1487.txt\")\n",
        "l=0\n",
        "w=0\n",
        "c=0\n",
        "for i in meghana:\n",
        "    l=l+1\n",
        "    W=i.split()\n",
        "    w=w+len(W)\n",
        "    c=c+len(i)\n",
        "print(l,w,c)"
      ]
    },
    {
      "cell_type": "code",
      "execution_count": null,
      "id": "e38ed632",
      "metadata": {
        "id": "e38ed632",
        "outputId": "8d78a91d-2713-4bff-db8f-550a1e3b3b50"
      },
      "outputs": [
        {
          "name": "stdout",
          "output_type": "stream",
          "text": [
            "hi this is meghana\n",
            "reg no: vu21csen0101487\n",
            "AGE :18\n",
            "SUBJECT:CSEN(PROGRAMMING WITH PYTHON)\n",
            "come on come on kalavathi\n",
            "institute:gitam\n"
          ]
        }
      ],
      "source": [
        "# append text to a file and display the text #\n",
        "\n",
        "meghana = open(r\"E:\\meghana1487.txt\",\"a\")\n",
        "meghana.write(\"\\ninstitute:gitam\")\n",
        "meghana.close()\n",
        "\n",
        "# Now read the file #\n",
        "meghana = open(r\"E:\\meghana1487.txt\")\n",
        "print(meghana.read())"
      ]
    },
    {
      "cell_type": "code",
      "execution_count": null,
      "id": "693fccb4",
      "metadata": {
        "id": "693fccb4",
        "outputId": "31e957b7-dc23-4713-e46b-c83eafacf66e"
      },
      "outputs": [
        {
          "name": "stdout",
          "output_type": "stream",
          "text": [
            "16\n"
          ]
        }
      ],
      "source": [
        "##to write a list\n",
        "meghana = [\"period:2021-2025\"]\n",
        "for i in meghana:\n",
        "    a=open(r\"E:\\meghana1487.txt\",\"a\")\n",
        "    print(a.write(i))\n",
        "    a.close()"
      ]
    },
    {
      "cell_type": "code",
      "execution_count": null,
      "id": "05602369",
      "metadata": {
        "id": "05602369",
        "outputId": "df145de2-fa2c-4638-e988-0fd62aca3386"
      },
      "outputs": [
        {
          "name": "stdout",
          "output_type": "stream",
          "text": [
            "    s no    name  age  phone no gender      adress         email  \\\n",
            "0      1   maggi   10       123      f  hululu clg  hi@gmail.com   \n",
            "1      2  yeppie    9      1234      f  hululu clg  hi@gmail.com   \n",
            "2      3   puppy    8       234      f  hululu clg  hi@gmail.com   \n",
            "3      4   abhhi    7       345      m  hululu clg  hi@gmail.com   \n",
            "4      5  vedesh    6       567      m  hululu clg  hi@gmail.com   \n",
            "5      6    hith    5       678      m  hululu clg  hi@gmail.com   \n",
            "6      7   rahul    4      7789      m  hululu clg  hi@gmail.com   \n",
            "7      8  vaishu    3       890      f   huluu clg  hi@gmail.com   \n",
            "8      9  chinni    2        12      m   huluu clg  hi@gmail.com   \n",
            "9     10  nithin    1       237      m   huluu clg  hi@gmail.com   \n",
            "10    11   maggi    2       234      f  hululu clg  hi@gmail.com   \n",
            "\n",
            "   having passprt license  \n",
            "0             yes     yes  \n",
            "1              no      no  \n",
            "2             yes     yes  \n",
            "3              no     yes  \n",
            "4             yes      no  \n",
            "5             yes     yes  \n",
            "6              no      no  \n",
            "7              no     yes  \n",
            "8             yes     yes  \n",
            "9              no      no  \n",
            "10            yes     yes  \n"
          ]
        }
      ],
      "source": [
        "##password details\n",
        "import pandas as pd\n",
        "a= pd.read_csv(\"E:/passportdetails.csv\")\n",
        "print(a)"
      ]
    },
    {
      "cell_type": "code",
      "execution_count": null,
      "id": "f05f36a6",
      "metadata": {
        "id": "f05f36a6",
        "outputId": "a2ae4983-e8ad-4eec-ecc7-aba9da8adf2f"
      },
      "outputs": [
        {
          "name": "stdout",
          "output_type": "stream",
          "text": [
            "    s no    name  age  phone no gender      adress         email having passprt license\n",
            "0      1   maggi   10       123      f  hululu clg  hi@gmail.com            yes     yes\n",
            "1      2  yeppie    9      1234      f  hululu clg  hi@gmail.com             no      no\n",
            "2      3   puppy    8       234      f  hululu clg  hi@gmail.com            yes     yes\n",
            "3      4   abhhi    7       345      m  hululu clg  hi@gmail.com             no     yes\n",
            "4      5  vedesh    6       567      m  hululu clg  hi@gmail.com            yes      no\n",
            "5      6    hith    5       678      m  hululu clg  hi@gmail.com            yes     yes\n",
            "6      7   rahul    4      7789      m  hululu clg  hi@gmail.com             no      no\n",
            "7      8  vaishu    3       890      f   huluu clg  hi@gmail.com             no     yes\n",
            "8      9  chinni    2        12      m   huluu clg  hi@gmail.com            yes     yes\n",
            "9     10  nithin    1       237      m   huluu clg  hi@gmail.com             no      no\n",
            "10    11   maggi    2       234      f  hululu clg  hi@gmail.com            yes     yes\n"
          ]
        }
      ],
      "source": [
        "##password details\n",
        "import pandas as pd\n",
        "a= pd.read_csv(\"E:/passportdetails.csv\")\n",
        "print(a.to_string())"
      ]
    },
    {
      "cell_type": "code",
      "execution_count": null,
      "id": "0d5ca745",
      "metadata": {
        "id": "0d5ca745",
        "outputId": "0c114ee2-603c-42a4-ac5c-3252a6694a09"
      },
      "outputs": [
        {
          "name": "stdout",
          "output_type": "stream",
          "text": [
            "    s no    name  age  phone no gender      adress         email having passprt license\n",
            "1      2  yeppie    9      1234      f  hululu clg  hi@gmail.com             no      no\n",
            "2      3   puppy    8       234      f  hululu clg  hi@gmail.com            yes     yes\n",
            "3      4   abhhi    7       345      m  hululu clg  hi@gmail.com             no     yes\n",
            "4      5  vedesh    6       567      m  hululu clg  hi@gmail.com            yes      no\n",
            "5      6    hith    5       678      m  hululu clg  hi@gmail.com            yes     yes\n",
            "6      7   rahul    4      7789      m  hululu clg  hi@gmail.com             no      no\n",
            "7      8  vaishu    3       890      f   huluu clg  hi@gmail.com             no     yes\n",
            "8      9  chinni    2        12      m   huluu clg  hi@gmail.com            yes     yes\n",
            "9     10  nithin    1       237      m   huluu clg  hi@gmail.com             no      no\n",
            "10    11   maggi    2       234      f  hululu clg  hi@gmail.com            yes     yes\n"
          ]
        }
      ],
      "source": [
        "##to delete duplicates\n",
        "import pandas as pd\n",
        "a=pd.read_csv(\"E:/passportdetails.csv\")\n",
        "b=a.drop_duplicates(subset=\"name\",keep=\"last\")\n",
        "print(b.to_string())"
      ]
    },
    {
      "cell_type": "code",
      "execution_count": null,
      "id": "25f7d31c",
      "metadata": {
        "id": "25f7d31c",
        "outputId": "efb41c98-849f-46ce-fe4b-30b544e627de"
      },
      "outputs": [
        {
          "data": {
            "text/html": [
              "<div>\n",
              "<style scoped>\n",
              "    .dataframe tbody tr th:only-of-type {\n",
              "        vertical-align: middle;\n",
              "    }\n",
              "\n",
              "    .dataframe tbody tr th {\n",
              "        vertical-align: top;\n",
              "    }\n",
              "\n",
              "    .dataframe thead th {\n",
              "        text-align: right;\n",
              "    }\n",
              "</style>\n",
              "<table border=\"1\" class=\"dataframe\">\n",
              "  <thead>\n",
              "    <tr style=\"text-align: right;\">\n",
              "      <th></th>\n",
              "      <th>age</th>\n",
              "    </tr>\n",
              "  </thead>\n",
              "  <tbody>\n",
              "    <tr>\n",
              "      <th>min</th>\n",
              "      <td>1</td>\n",
              "    </tr>\n",
              "    <tr>\n",
              "      <th>max</th>\n",
              "      <td>10</td>\n",
              "    </tr>\n",
              "  </tbody>\n",
              "</table>\n",
              "</div>"
            ],
            "text/plain": [
              "     age\n",
              "min    1\n",
              "max   10"
            ]
          },
          "execution_count": 20,
          "metadata": {},
          "output_type": "execute_result"
        }
      ],
      "source": [
        "##to print the minimum and maximum age\n",
        "import pandas as pd\n",
        "a= pd.read_csv(\"E:/passportdetails.csv\")\n",
        "a.aggregate({\"age\":[\"min\",\"max\"]})"
      ]
    },
    {
      "cell_type": "code",
      "execution_count": null,
      "id": "ad751bae",
      "metadata": {
        "id": "ad751bae",
        "outputId": "f3f91d96-6255-4600-8f1e-78663b637b7a"
      },
      "outputs": [
        {
          "data": {
            "text/html": [
              "<div>\n",
              "<style scoped>\n",
              "    .dataframe tbody tr th:only-of-type {\n",
              "        vertical-align: middle;\n",
              "    }\n",
              "\n",
              "    .dataframe tbody tr th {\n",
              "        vertical-align: top;\n",
              "    }\n",
              "\n",
              "    .dataframe thead th {\n",
              "        text-align: right;\n",
              "    }\n",
              "</style>\n",
              "<table border=\"1\" class=\"dataframe\">\n",
              "  <thead>\n",
              "    <tr style=\"text-align: right;\">\n",
              "      <th></th>\n",
              "      <th>age</th>\n",
              "    </tr>\n",
              "  </thead>\n",
              "  <tbody>\n",
              "    <tr>\n",
              "      <th>sum</th>\n",
              "      <td>57</td>\n",
              "    </tr>\n",
              "  </tbody>\n",
              "</table>\n",
              "</div>"
            ],
            "text/plain": [
              "     age\n",
              "sum   57"
            ]
          },
          "execution_count": 21,
          "metadata": {},
          "output_type": "execute_result"
        }
      ],
      "source": [
        "##to print the sum of all ages\n",
        "import pandas as pd\n",
        "a= pd.read_csv(\"E:/passportdetails.csv\")\n",
        "a.aggregate({\"age\":[\"sum\"]})"
      ]
    },
    {
      "cell_type": "code",
      "execution_count": null,
      "id": "126bc315",
      "metadata": {
        "id": "126bc315",
        "outputId": "a58f4495-0024-488e-e969-f9153fc1a388"
      },
      "outputs": [
        {
          "data": {
            "text/html": [
              "<div>\n",
              "<style scoped>\n",
              "    .dataframe tbody tr th:only-of-type {\n",
              "        vertical-align: middle;\n",
              "    }\n",
              "\n",
              "    .dataframe tbody tr th {\n",
              "        vertical-align: top;\n",
              "    }\n",
              "\n",
              "    .dataframe thead th {\n",
              "        text-align: right;\n",
              "    }\n",
              "</style>\n",
              "<table border=\"1\" class=\"dataframe\">\n",
              "  <thead>\n",
              "    <tr style=\"text-align: right;\">\n",
              "      <th></th>\n",
              "      <th>age</th>\n",
              "      <th>phone no</th>\n",
              "      <th>s no</th>\n",
              "    </tr>\n",
              "  </thead>\n",
              "  <tbody>\n",
              "    <tr>\n",
              "      <th>min</th>\n",
              "      <td>1.000000</td>\n",
              "      <td>12.000000</td>\n",
              "      <td>1.0</td>\n",
              "    </tr>\n",
              "    <tr>\n",
              "      <th>max</th>\n",
              "      <td>10.000000</td>\n",
              "      <td>7789.000000</td>\n",
              "      <td>11.0</td>\n",
              "    </tr>\n",
              "    <tr>\n",
              "      <th>sum</th>\n",
              "      <td>57.000000</td>\n",
              "      <td>12343.000000</td>\n",
              "      <td>66.0</td>\n",
              "    </tr>\n",
              "    <tr>\n",
              "      <th>average</th>\n",
              "      <td>5.181818</td>\n",
              "      <td>1122.090909</td>\n",
              "      <td>6.0</td>\n",
              "    </tr>\n",
              "  </tbody>\n",
              "</table>\n",
              "</div>"
            ],
            "text/plain": [
              "               age      phone no  s no\n",
              "min       1.000000     12.000000   1.0\n",
              "max      10.000000   7789.000000  11.0\n",
              "sum      57.000000  12343.000000  66.0\n",
              "average   5.181818   1122.090909   6.0"
            ]
          },
          "execution_count": 22,
          "metadata": {},
          "output_type": "execute_result"
        }
      ],
      "source": [
        "import pandas as pd\n",
        "a= pd.read_csv(\"E:/passportdetails.csv\")\n",
        "a.aggregate({\"age\":[\"min\",\"max\",\"sum\",\"average\"],\"phone no\":[\"min\",\"max\",\"sum\",\"average\"],\"s no\":[\"min\",\"max\",\"sum\",\"average\"]})"
      ]
    },
    {
      "cell_type": "code",
      "execution_count": null,
      "id": "1959254f",
      "metadata": {
        "id": "1959254f",
        "outputId": "019a9d91-094d-48a7-c675-711ad12e9c94"
      },
      "outputs": [
        {
          "data": {
            "text/html": [
              "<div>\n",
              "<style scoped>\n",
              "    .dataframe tbody tr th:only-of-type {\n",
              "        vertical-align: middle;\n",
              "    }\n",
              "\n",
              "    .dataframe tbody tr th {\n",
              "        vertical-align: top;\n",
              "    }\n",
              "\n",
              "    .dataframe thead th {\n",
              "        text-align: right;\n",
              "    }\n",
              "</style>\n",
              "<table border=\"1\" class=\"dataframe\">\n",
              "  <thead>\n",
              "    <tr style=\"text-align: right;\">\n",
              "      <th></th>\n",
              "      <th>s no</th>\n",
              "      <th>name</th>\n",
              "      <th>age</th>\n",
              "      <th>phone no</th>\n",
              "      <th>gender</th>\n",
              "      <th>email</th>\n",
              "      <th>having passprt</th>\n",
              "      <th>license</th>\n",
              "    </tr>\n",
              "    <tr>\n",
              "      <th>adress</th>\n",
              "      <th></th>\n",
              "      <th></th>\n",
              "      <th></th>\n",
              "      <th></th>\n",
              "      <th></th>\n",
              "      <th></th>\n",
              "      <th></th>\n",
              "      <th></th>\n",
              "    </tr>\n",
              "  </thead>\n",
              "  <tbody>\n",
              "    <tr>\n",
              "      <th>hululu clg</th>\n",
              "      <td>1</td>\n",
              "      <td>maggi</td>\n",
              "      <td>10</td>\n",
              "      <td>123</td>\n",
              "      <td>f</td>\n",
              "      <td>hi@gmail.com</td>\n",
              "      <td>yes</td>\n",
              "      <td>yes</td>\n",
              "    </tr>\n",
              "    <tr>\n",
              "      <th>huluu clg</th>\n",
              "      <td>8</td>\n",
              "      <td>vaishu</td>\n",
              "      <td>3</td>\n",
              "      <td>890</td>\n",
              "      <td>f</td>\n",
              "      <td>hi@gmail.com</td>\n",
              "      <td>no</td>\n",
              "      <td>yes</td>\n",
              "    </tr>\n",
              "  </tbody>\n",
              "</table>\n",
              "</div>"
            ],
            "text/plain": [
              "            s no    name  age  phone no gender         email having passprt  \\\n",
              "adress                                                                        \n",
              "hululu clg     1   maggi   10       123      f  hi@gmail.com            yes   \n",
              "huluu clg      8  vaishu    3       890      f  hi@gmail.com             no   \n",
              "\n",
              "           license  \n",
              "adress              \n",
              "hululu clg     yes  \n",
              "huluu clg      yes  "
            ]
          },
          "execution_count": 23,
          "metadata": {},
          "output_type": "execute_result"
        }
      ],
      "source": [
        "##group by\n",
        "import pandas as pd\n",
        "a=pd.read_csv(\"E:/passportdetails.csv\")\n",
        "b=a.groupby([\"adress\"])\n",
        "b.first()"
      ]
    },
    {
      "cell_type": "code",
      "execution_count": null,
      "id": "32a5c32e",
      "metadata": {
        "id": "32a5c32e"
      },
      "outputs": [],
      "source": [
        ""
      ]
    }
  ],
  "metadata": {
    "kernelspec": {
      "display_name": "Python 3 (ipykernel)",
      "language": "python",
      "name": "python3"
    },
    "language_info": {
      "codemirror_mode": {
        "name": "ipython",
        "version": 3
      },
      "file_extension": ".py",
      "mimetype": "text/x-python",
      "name": "python",
      "nbconvert_exporter": "python",
      "pygments_lexer": "ipython3",
      "version": "3.9.7"
    },
    "colab": {
      "name": "module 3",
      "provenance": [],
      "include_colab_link": true
    }
  },
  "nbformat": 4,
  "nbformat_minor": 5
}