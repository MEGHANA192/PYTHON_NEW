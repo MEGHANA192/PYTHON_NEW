{
  "nbformat": 4,
  "nbformat_minor": 0,
  "metadata": {
    "colab": {
      "name": "Strings",
      "provenance": [],
      "collapsed_sections": [],
      "include_colab_link": true
    },
    "kernelspec": {
      "name": "python3",
      "display_name": "Python 3"
    },
    "language_info": {
      "name": "python"
    }
  },
  "cells": [
    {
      "cell_type": "markdown",
      "metadata": {
        "id": "view-in-github",
        "colab_type": "text"
      },
      "source": [
        "<a href=\"https://colab.research.google.com/github/MEGHANA192/PYTHON_NEW/blob/MODULE_2/Strings.ipynb\" target=\"_parent\"><img src=\"https://colab.research.google.com/assets/colab-badge.svg\" alt=\"Open In Colab\"/></a>"
      ]
    },
    {
      "cell_type": "code",
      "execution_count": null,
      "metadata": {
        "colab": {
          "base_uri": "https://localhost:8080/"
        },
        "id": "HrLOUy6h60HL",
        "outputId": "09c246dd-2d6d-4151-a125-7f0958366c50"
      },
      "outputs": [
        {
          "output_type": "stream",
          "name": "stdout",
          "text": [
            "meghana\n",
            "<class 'str'>\n",
            "m\n"
          ]
        }
      ],
      "source": [
        "a= \"meghana\"\n",
        "print(a)\n",
        "print(type(a))\n",
        "print(a[0])"
      ]
    },
    {
      "cell_type": "code",
      "source": [
        "a= \"my name is meghana\"\n",
        "print(a)\n",
        "print(type(a))\n",
        "print(a[0])\n",
        "print(len(a))\n",
        "print(a[11:15])"
      ],
      "metadata": {
        "colab": {
          "base_uri": "https://localhost:8080/"
        },
        "id": "5LFAK4u78S7K",
        "outputId": "4a4653f3-aae9-423b-9350-7803d3e49020"
      },
      "execution_count": null,
      "outputs": [
        {
          "output_type": "stream",
          "name": "stdout",
          "text": [
            "my name is meghana\n",
            "<class 'str'>\n",
            "m\n",
            "18\n",
            "megh\n"
          ]
        }
      ]
    },
    {
      "cell_type": "code",
      "source": [
        "a=\"RRR movie has been released\"\n",
        "print(\"RRR\" in a)\n",
        "print(a[0:12])"
      ],
      "metadata": {
        "colab": {
          "base_uri": "https://localhost:8080/"
        },
        "id": "WylnWZTC8r9p",
        "outputId": "124c5b1c-3651-4223-cf8c-9a1239eb8563"
      },
      "execution_count": null,
      "outputs": [
        {
          "output_type": "stream",
          "name": "stdout",
          "text": [
            "True\n",
            "RRR movie ha\n"
          ]
        }
      ]
    },
    {
      "cell_type": "markdown",
      "source": [
        "MODIFY STRINGS"
      ],
      "metadata": {
        "id": "8EYrRI1_ZTEh"
      }
    },
    {
      "cell_type": "markdown",
      "source": [
        "upper case"
      ],
      "metadata": {
        "id": "1zeD3cfnZCY4"
      }
    },
    {
      "cell_type": "code",
      "source": [
        "a=\"abhinav,vedesh,puppy\"\n",
        "print(a.upper())"
      ],
      "metadata": {
        "colab": {
          "base_uri": "https://localhost:8080/"
        },
        "id": "MLbAokr6ZES3",
        "outputId": "9b1a58a1-4c0a-4b21-ce84-662b935ef591"
      },
      "execution_count": null,
      "outputs": [
        {
          "output_type": "stream",
          "name": "stdout",
          "text": [
            "ABHINAV,VEDESH,PUPPY\n"
          ]
        }
      ]
    },
    {
      "cell_type": "markdown",
      "source": [
        "lower case"
      ],
      "metadata": {
        "id": "Pd1EIOcEZo_J"
      }
    },
    {
      "cell_type": "code",
      "source": [
        "a=\"ABHINAV,VEDESH,PUPPY\"\n",
        "print(a.lower())"
      ],
      "metadata": {
        "colab": {
          "base_uri": "https://localhost:8080/"
        },
        "id": "qIpSuTeLZoRp",
        "outputId": "b36cc340-eba6-41ca-caef-abc5ae39bf1b"
      },
      "execution_count": null,
      "outputs": [
        {
          "output_type": "stream",
          "name": "stdout",
          "text": [
            "abhinav,vedesh,puppy\n"
          ]
        }
      ]
    },
    {
      "cell_type": "markdown",
      "source": [
        "REMOVE  white SPACES"
      ],
      "metadata": {
        "id": "iuhZgcF7Z5L7"
      }
    },
    {
      "cell_type": "code",
      "source": [
        "a=\"abhinav,vedesh,puppy            \"\n",
        "print(a)\n",
        "print(a.strip())"
      ],
      "metadata": {
        "colab": {
          "base_uri": "https://localhost:8080/"
        },
        "id": "iuTjPzuVZwLL",
        "outputId": "df6ff781-e224-4c45-eef2-502f5620296d"
      },
      "execution_count": null,
      "outputs": [
        {
          "output_type": "stream",
          "name": "stdout",
          "text": [
            "abhinav,vedesh,puppy            \n",
            "abhinav,vedesh,puppy\n"
          ]
        }
      ]
    },
    {
      "cell_type": "markdown",
      "source": [
        "replace string"
      ],
      "metadata": {
        "id": "XxCSYPKaaiee"
      }
    },
    {
      "cell_type": "code",
      "source": [
        "a=\"RRR\"\n",
        "print(a)\n",
        "print(a.replace(\"RRR\",\"RADHE SHYAM\"))"
      ],
      "metadata": {
        "colab": {
          "base_uri": "https://localhost:8080/"
        },
        "id": "JZZGtlDiaSct",
        "outputId": "a4b2a86d-67fe-4af6-9a63-5db3e8863850"
      },
      "execution_count": null,
      "outputs": [
        {
          "output_type": "stream",
          "name": "stdout",
          "text": [
            "RRR\n",
            "RADHE SHYAM\n"
          ]
        }
      ]
    },
    {
      "cell_type": "markdown",
      "source": [
        "SPLIT STRING"
      ],
      "metadata": {
        "id": "3hpErjLhcUlf"
      }
    },
    {
      "cell_type": "code",
      "source": [
        "a=\"banana apple  mango\"\n",
        "print(a.split())\n",
        "a=\"banana,apple mango\"\n",
        "print(a.split(\",\"))"
      ],
      "metadata": {
        "colab": {
          "base_uri": "https://localhost:8080/"
        },
        "id": "tAgY7-vga4SR",
        "outputId": "bc6992f2-44bd-4b89-8fc8-5b5368655a85"
      },
      "execution_count": null,
      "outputs": [
        {
          "output_type": "stream",
          "name": "stdout",
          "text": [
            "['banana', 'apple', 'mango']\n",
            "['banana', 'apple mango']\n"
          ]
        }
      ]
    },
    {
      "cell_type": "markdown",
      "source": [
        "String Concatenation"
      ],
      "metadata": {
        "id": "JbjxyhGSd2RH"
      }
    },
    {
      "cell_type": "code",
      "source": [
        "a=\"1234\"\n",
        "b=\"meghana\"\n",
        "c=a+\" \" +b#should add spaces if you need a space\n",
        "print(c)\n",
        "a=\"1234\"\n",
        "b=\"meghana\"\n",
        "c=a +b\n",
        "print(c)"
      ],
      "metadata": {
        "colab": {
          "base_uri": "https://localhost:8080/"
        },
        "id": "w_YBDL3icrPQ",
        "outputId": "21e5ebe1-6e6c-49da-974a-190b69de5ed6"
      },
      "execution_count": null,
      "outputs": [
        {
          "output_type": "stream",
          "name": "stdout",
          "text": [
            "1234 meghana\n",
            "1234meghana\n"
          ]
        }
      ]
    },
    {
      "cell_type": "markdown",
      "source": [
        "format strings"
      ],
      "metadata": {
        "id": "xIWgAgeUi_VB"
      }
    },
    {
      "cell_type": "code",
      "source": [
        "quantity = 1\n",
        "item = \"tesla\"\n",
        "price = 10\n",
        "myorder = \"I want {} piece of item {} for {}  million dollars.\"\n",
        "print(myorder.format(quantity, item, price))\n",
        "print(\"your total bill is\",price *quantity,\"million\")\n"
      ],
      "metadata": {
        "colab": {
          "base_uri": "https://localhost:8080/"
        },
        "id": "Jb78-O9NekoC",
        "outputId": "816bbcc8-2494-4cd3-fc68-bbd48abec6ae"
      },
      "execution_count": null,
      "outputs": [
        {
          "output_type": "stream",
          "name": "stdout",
          "text": [
            "I want 1 piece of item tesla for 10  million dollars.\n",
            "your total bill is 10 million\n"
          ]
        }
      ]
    },
    {
      "cell_type": "code",
      "source": [
        "a=int((input(\"my math marks are \")))\n",
        "b=int((input(\"my csen marks are \")))\n",
        "c=int((input(\"my chem marks are \")))\n",
        "d=int((input(\"my beee marks are \")))\n",
        "\n",
        "print(\"  \")\n",
        "marks=(\"my math marks are {0}\\n\"\"my csen marks are {1}\\n\" \"my chem marks are {2}\\n\" \"my beee marks are {3}\\n\")\n",
        "print(marks.format( a, b, c, d))\n",
        "print(\"your total marks out of 400 is \",a+b+c+d,\"/400\")"
      ],
      "metadata": {
        "colab": {
          "base_uri": "https://localhost:8080/"
        },
        "id": "Z6-U0sMhjeUB",
        "outputId": "6fbb4efe-ba85-475d-e233-e75afe00bdcf"
      },
      "execution_count": null,
      "outputs": [
        {
          "output_type": "stream",
          "name": "stdout",
          "text": [
            "my math marks are 90\n",
            "my csen marks are 100\n",
            "my chem marks are 86\n",
            "my beee marks are 22\n",
            "  \n",
            "my math marks are 90\n",
            "my csen marks are 100\n",
            "my chem marks are 86\n",
            "my beee marks are 22\n",
            "\n",
            "your total marks out of 400 is  298 /400\n"
          ]
        }
      ]
    },
    {
      "cell_type": "markdown",
      "source": [
        "capatalize"
      ],
      "metadata": {
        "id": "XN8Pxj7GrcFM"
      }
    },
    {
      "cell_type": "code",
      "source": [
        "a=\"meghana\"\n",
        "b= a.capitalize()\n",
        "print(b)"
      ],
      "metadata": {
        "colab": {
          "base_uri": "https://localhost:8080/"
        },
        "id": "uSULIx1tq287",
        "outputId": "46fadfa5-aa6f-4731-c2d5-26dbd44bb2a7"
      },
      "execution_count": null,
      "outputs": [
        {
          "output_type": "stream",
          "name": "stdout",
          "text": [
            "Meghana\n"
          ]
        }
      ]
    }
  ]
}